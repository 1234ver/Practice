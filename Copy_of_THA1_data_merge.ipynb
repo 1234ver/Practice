{
  "nbformat": 4,
  "nbformat_minor": 0,
  "metadata": {
    "colab": {
      "name": "Copy of THA1_data merge",
      "version": "0.3.2",
      "provenance": [],
      "include_colab_link": true
    },
    "kernelspec": {
      "name": "python3",
      "display_name": "Python 3"
    }
  },
  "cells": [
    {
      "cell_type": "markdown",
      "metadata": {
        "id": "view-in-github",
        "colab_type": "text"
      },
      "source": [
        "<a href=\"https://colab.research.google.com/github/1234ver/Practice/blob/master/Copy_of_THA1_data_merge.ipynb\" target=\"_parent\"><img src=\"https://colab.research.google.com/assets/colab-badge.svg\" alt=\"Open In Colab\"/></a>"
      ]
    },
    {
      "metadata": {
        "id": "AMOBBOHqShWK",
        "colab_type": "text"
      },
      "cell_type": "markdown",
      "source": [
        "The three excel files I used are uploaded onto canvas. They are called:\n",
        "\n",
        "**1.** **2017inadm_dataset2.xlsx** This dataset contains information about the number of \"inadmissible\" migrants who attempted to enter the United States by presenting themselves at a port of entry along the US-Mexico in fiscal year 2017. This data is broken down by \"family units\" and \"UACs,\" which stands for \"unaccompanied child.\" It also contains information about where migrants presented themselves along the border, which is represented by U.S. Customs and Border Protection (CBP) \"field offices.\" I retrieved the original data from the  CBP website through the following link: https://www.cbp.gov/newsroom/stats/ofo-sw-border-inadmissibles \n",
        "\n",
        "**2. 2017apps_dataset3.xlsx** This dataset contains information about the number of family units and unaccompanied children who crossed into the United States between ports of entry and were then apprehended by CBP. It is organized by CBP sector. I retrieved the original data through the CBP website at the following link: https://www.cbp.gov/newsroom/stats/usbp-sw-border-apprehensions\n",
        "\n",
        "**3. Field office overview_dataset1.xlsx ** This dataset organizes information about CBP enforcement sectors, including field offices and the enforcement sectors that corresponding to each field office. It also includes the names of each field office's ports of entry, their codes, and their geographic locations. I found this information through the cbp.gov website. \n",
        "\n",
        "I then manually entered this data into the excel spreadsheets and uploaded them onto canvas. "
      ]
    },
    {
      "metadata": {
        "id": "i8oIGxx8Xm3X",
        "colab_type": "text"
      },
      "cell_type": "markdown",
      "source": [
        "This is for my first dataset."
      ]
    },
    {
      "metadata": {
        "id": "eXN8aPOMFt8w",
        "colab_type": "code",
        "outputId": "3dd2f8a3-5fd7-4cc6-dc40-a8c5a9b6c68c",
        "colab": {
          "base_uri": "https://localhost:8080/",
          "height": 119
        }
      },
      "cell_type": "code",
      "source": [
        "import pandas as pd\n",
        "inadmin2017 = pd.read_excel(\"2017inadm_dataset2.xlsx\")\n",
        "print(\"1. 2017 CBP Inadmissibles\")\n",
        "print(inadmin2017)\n"
      ],
      "execution_count": 9,
      "outputs": [
        {
          "output_type": "stream",
          "text": [
            "1. 2017 CBP Inadmissibles\n",
            "  Field Office  Family Unit   UAC\n",
            "0      El Paso         6889  2533\n",
            "1       Laredo        10545  2263\n",
            "2    San Diego         5702  1087\n",
            "3       Tucson         6239  1363\n"
          ],
          "name": "stdout"
        }
      ]
    },
    {
      "metadata": {
        "id": "UjhKnjGoXo4_",
        "colab_type": "text"
      },
      "cell_type": "markdown",
      "source": [
        "This is for my second dataset."
      ]
    },
    {
      "metadata": {
        "id": "cQnbEw4ONNVh",
        "colab_type": "code",
        "outputId": "f31a2766-9d13-4514-ba38-70784c3a4a24",
        "colab": {
          "base_uri": "https://localhost:8080/",
          "height": 204
        }
      },
      "cell_type": "code",
      "source": [
        "apps2017 = pd.read_excel(\"2017apps_dataset3.xlsx\")\n",
        "print(\"2. 2017 CBP Apprehensions\")\n",
        "print(apps2017)"
      ],
      "execution_count": 10,
      "outputs": [
        {
          "output_type": "stream",
          "text": [
            "2. 2017 CBP Apprehensions\n",
            "  Field Office  Family Unit Apprehensions  UAC Apprehensions\n",
            "0     Big Bend                        941                811\n",
            "1      Del Rio                       2453               1349\n",
            "2    El Centro                       1798               1531\n",
            "3      El Paso                       8609               3926\n",
            "4       Laredo                        865               2033\n",
            "5   Rio Grande                      49896              23708\n",
            "6    San Diego                       2944               1551\n",
            "7       Tucson                       2042               3659\n",
            "8         Yuma                       6074               2867\n"
          ],
          "name": "stdout"
        }
      ]
    },
    {
      "metadata": {
        "id": "8UkVxpVuXs-_",
        "colab_type": "text"
      },
      "cell_type": "markdown",
      "source": [
        "This is for my third dataset. "
      ]
    },
    {
      "metadata": {
        "id": "f_IrNvvpN9eA",
        "colab_type": "code",
        "outputId": "40112d1b-b5db-4288-d987-18a5dd9881f7",
        "colab": {
          "base_uri": "https://localhost:8080/",
          "height": 1465
        }
      },
      "cell_type": "code",
      "source": [
        "fieldoffice=pd.read_excel(\"Field office overview_dataset1.xlsx\")\n",
        "print(\"3.Field Office Overview\")\n",
        "print(fieldoffice)"
      ],
      "execution_count": 11,
      "outputs": [
        {
          "output_type": "stream",
          "text": [
            "3.Field Office Overview\n",
            "   Field Office             Sector                  CBP POE Name  Port Code  \\\n",
            "0        Laredo  Rio Grande Valley                      Hildalgo       2305   \n",
            "1       El Paso            El Paso                       El Paso       2402   \n",
            "2        Tucson             Tucson                       Nogales       2604   \n",
            "3     San Diego          El Centro        Calexico- East Class A       2507   \n",
            "4     San diego          El Centro         Calexico-West Class A       2503   \n",
            "5     San Diego          San Diego                     Otay Mesa       2506   \n",
            "6     San Diego          San Diego                     San Diego       2501   \n",
            "7     San Diego          San Diego            San Ysidro-Class A       2504   \n",
            "8     San Diego                NaN               Tecate- Class A       2505   \n",
            "9        Laredo            Del Rio                    Eagle Pass       2303   \n",
            "10       Laredo             Laredo                        Laredo       2304   \n",
            "11    San Diego                NaN                       Andrade       2502   \n",
            "12       Laredo  Rio Grande Valley                   Brownsville       2301   \n",
            "13      El Paso                NaN                      Columbus       2406   \n",
            "14       Laredo            Del Rio                       Del Rio       2302   \n",
            "15       Tucson                NaN  Douglas (Raul Hector Castro)       2601   \n",
            "16      El Paso                NaN                      Tornillo       2404   \n",
            "17       Tucson                NaN                     Lukeville       2602   \n",
            "18       Tucson                NaN                          Naco       2603   \n",
            "19      El Paso           Big Bend                      Presidio       2403   \n",
            "20       Laredo                NaN                      Progreso       2309   \n",
            "21       Laredo                NaN               Rio Grande City       2307   \n",
            "22       Laredo                NaN                          Roma       2310   \n",
            "23       Tucson                NaN                      San Luis       2608   \n",
            "24      El Paso                NaN                  Santa Teresa       2408   \n",
            "25       Tucson                NaN                        Sasabe       2606   \n",
            "\n",
            "                     US City                                     Mexico City  \\\n",
            "0                        NaN                                             NaN   \n",
            "1                    El Paso                        Ciudad Juarez, Chihuahua   \n",
            "2           Nogales, Arizona                                 Nogales, Sonora   \n",
            "3       Calexico, California                       Mexicali, Baja California   \n",
            "4                        NaN                                             NaN   \n",
            "5      San Diego, California                        Tijuana, Baja California   \n",
            "6      San Diego, California                        Tijuana, Baja California   \n",
            "7                        NaN                                             NaN   \n",
            "8          Tecate California                         Tecate, Baja California   \n",
            "9          Eagle Pass, Texas                        Piedras Negras, Coahuila   \n",
            "10             Laredo, Texas  Nuevo Laredo, Tamaulipas/ Colombia, Nuevo León   \n",
            "11   Winterhaven, California                  Los Algodones, Baja California   \n",
            "12        Brownsville, Texas                           Matamoros, Tamaulipas   \n",
            "13                       NaN                                             NaN   \n",
            "14            Del Rio, Texas                          Ciudad Acuña, Coahuila   \n",
            "15          Douglas, Arizona                             Agua Prieta, Sonora   \n",
            "16             Fabens, Texas                   Caseta (Tornillo?), Chihuahua   \n",
            "17        Lukeville, Arizona                                 Sonoyta, Sonora   \n",
            "18             Naco, Arizona                                    Naco, Sonora   \n",
            "19           Presidio, Texas                              Ojinaga, Chihuahua   \n",
            "20           Progreso, Texas                     Nuevo Progresso, Tamaulipas   \n",
            "21    Rio Grande City, Texas                             Camargo, Tamaulipas   \n",
            "22               Roma, Texas                Ciudad Miguel Alemán, Tamaulipas   \n",
            "23         San Luis, Arizona                   San Luis Rio Colorado, Sonora   \n",
            "24  Santa Teresa, New Mexico                        Ciudad Juarez, Chihuahua   \n",
            "25           Sasabe, Arizona                                  Sásabe, Sonora   \n",
            "\n",
            "      Mexican State  \n",
            "0               NaN  \n",
            "1         Chihuahua  \n",
            "2            Sonora  \n",
            "3   Baja California  \n",
            "4               NaN  \n",
            "5   Baja California  \n",
            "6   Baja California  \n",
            "7               NaN  \n",
            "8   Baja California  \n",
            "9          Coahuila  \n",
            "10       Tamaulipas  \n",
            "11  Baja California  \n",
            "12       Tamaulipas  \n",
            "13              NaN  \n",
            "14         Coahuila  \n",
            "15           Sonora  \n",
            "16        Chihuahua  \n",
            "17           Sonora  \n",
            "18           Sonora  \n",
            "19        Chihuahua  \n",
            "20       Tamaulipas  \n",
            "21       Tamaulipas  \n",
            "22       Tamaulipas  \n",
            "23           Sonora  \n",
            "24        Chihuahua  \n",
            "25           Sonora  \n"
          ],
          "name": "stdout"
        }
      ]
    },
    {
      "metadata": {
        "id": "byy6L_GiXYql",
        "colab_type": "text"
      },
      "cell_type": "markdown",
      "source": [
        "To merge all three datasets, I first merged datasets 1 & 2. "
      ]
    },
    {
      "metadata": {
        "id": "5-T5pbkq3lEo",
        "colab_type": "code",
        "outputId": "e20b2be1-9b06-4035-9d68-aa4833b342bf",
        "colab": {
          "base_uri": "https://localhost:8080/",
          "height": 34
        }
      },
      "cell_type": "code",
      "source": [
        "pwd"
      ],
      "execution_count": 12,
      "outputs": [
        {
          "output_type": "execute_result",
          "data": {
            "text/plain": [
              "'/content'"
            ]
          },
          "metadata": {
            "tags": []
          },
          "execution_count": 12
        }
      ]
    },
    {
      "metadata": {
        "id": "TEQsry0jQicT",
        "colab_type": "code",
        "outputId": "13fc6f19-0357-484e-8350-c5faa0b52e6a",
        "colab": {
          "base_uri": "https://localhost:8080/",
          "height": 204
        }
      },
      "cell_type": "code",
      "source": [
        "\n",
        "apps_in2017 = inadmin2017.merge(apps2017,on=\"Field Office\")\n",
        "print(apps_in2017)"
      ],
      "execution_count": 13,
      "outputs": [
        {
          "output_type": "stream",
          "text": [
            "  Field Office  Family Unit   UAC  Family Unit Apprehensions  \\\n",
            "0      El Paso         6889  2533                       8609   \n",
            "1       Laredo        10545  2263                        865   \n",
            "2    San Diego         5702  1087                       2944   \n",
            "3       Tucson         6239  1363                       2042   \n",
            "\n",
            "   UAC Apprehensions  \n",
            "0               3926  \n",
            "1               2033  \n",
            "2               1551  \n",
            "3               3659  \n"
          ],
          "name": "stdout"
        }
      ]
    },
    {
      "metadata": {
        "id": "v6akcpi-Xg1F",
        "colab_type": "text"
      },
      "cell_type": "markdown",
      "source": [
        "I then merged this new dataset with dataset 3. "
      ]
    },
    {
      "metadata": {
        "id": "VjuEOJGvT9mg",
        "colab_type": "code",
        "outputId": "566e7a20-6acb-4b4e-ef58-2eba65186420",
        "colab": {
          "base_uri": "https://localhost:8080/",
          "height": 1836
        }
      },
      "cell_type": "code",
      "source": [
        "asylum2017 = apps_in2017.merge(fieldoffice,on = \"Field Office\")\n",
        "print(asylum2017)"
      ],
      "execution_count": 14,
      "outputs": [
        {
          "output_type": "stream",
          "text": [
            "   Field Office  Family Unit   UAC  Family Unit Apprehensions  \\\n",
            "0       El Paso         6889  2533                       8609   \n",
            "1       El Paso         6889  2533                       8609   \n",
            "2       El Paso         6889  2533                       8609   \n",
            "3       El Paso         6889  2533                       8609   \n",
            "4       El Paso         6889  2533                       8609   \n",
            "5        Laredo        10545  2263                        865   \n",
            "6        Laredo        10545  2263                        865   \n",
            "7        Laredo        10545  2263                        865   \n",
            "8        Laredo        10545  2263                        865   \n",
            "9        Laredo        10545  2263                        865   \n",
            "10       Laredo        10545  2263                        865   \n",
            "11       Laredo        10545  2263                        865   \n",
            "12       Laredo        10545  2263                        865   \n",
            "13    San Diego         5702  1087                       2944   \n",
            "14    San Diego         5702  1087                       2944   \n",
            "15    San Diego         5702  1087                       2944   \n",
            "16    San Diego         5702  1087                       2944   \n",
            "17    San Diego         5702  1087                       2944   \n",
            "18    San Diego         5702  1087                       2944   \n",
            "19       Tucson         6239  1363                       2042   \n",
            "20       Tucson         6239  1363                       2042   \n",
            "21       Tucson         6239  1363                       2042   \n",
            "22       Tucson         6239  1363                       2042   \n",
            "23       Tucson         6239  1363                       2042   \n",
            "24       Tucson         6239  1363                       2042   \n",
            "\n",
            "    UAC Apprehensions             Sector                  CBP POE Name  \\\n",
            "0                3926            El Paso                       El Paso   \n",
            "1                3926                NaN                      Columbus   \n",
            "2                3926                NaN                      Tornillo   \n",
            "3                3926           Big Bend                      Presidio   \n",
            "4                3926                NaN                  Santa Teresa   \n",
            "5                2033  Rio Grande Valley                      Hildalgo   \n",
            "6                2033            Del Rio                    Eagle Pass   \n",
            "7                2033             Laredo                        Laredo   \n",
            "8                2033  Rio Grande Valley                   Brownsville   \n",
            "9                2033            Del Rio                       Del Rio   \n",
            "10               2033                NaN                      Progreso   \n",
            "11               2033                NaN               Rio Grande City   \n",
            "12               2033                NaN                          Roma   \n",
            "13               1551          El Centro        Calexico- East Class A   \n",
            "14               1551          San Diego                     Otay Mesa   \n",
            "15               1551          San Diego                     San Diego   \n",
            "16               1551          San Diego            San Ysidro-Class A   \n",
            "17               1551                NaN               Tecate- Class A   \n",
            "18               1551                NaN                       Andrade   \n",
            "19               3659             Tucson                       Nogales   \n",
            "20               3659                NaN  Douglas (Raul Hector Castro)   \n",
            "21               3659                NaN                     Lukeville   \n",
            "22               3659                NaN                          Naco   \n",
            "23               3659                NaN                      San Luis   \n",
            "24               3659                NaN                        Sasabe   \n",
            "\n",
            "    Port Code                   US City  \\\n",
            "0        2402                   El Paso   \n",
            "1        2406                       NaN   \n",
            "2        2404             Fabens, Texas   \n",
            "3        2403           Presidio, Texas   \n",
            "4        2408  Santa Teresa, New Mexico   \n",
            "5        2305                       NaN   \n",
            "6        2303         Eagle Pass, Texas   \n",
            "7        2304             Laredo, Texas   \n",
            "8        2301        Brownsville, Texas   \n",
            "9        2302            Del Rio, Texas   \n",
            "10       2309           Progreso, Texas   \n",
            "11       2307    Rio Grande City, Texas   \n",
            "12       2310               Roma, Texas   \n",
            "13       2507      Calexico, California   \n",
            "14       2506     San Diego, California   \n",
            "15       2501     San Diego, California   \n",
            "16       2504                       NaN   \n",
            "17       2505         Tecate California   \n",
            "18       2502   Winterhaven, California   \n",
            "19       2604          Nogales, Arizona   \n",
            "20       2601          Douglas, Arizona   \n",
            "21       2602        Lukeville, Arizona   \n",
            "22       2603             Naco, Arizona   \n",
            "23       2608         San Luis, Arizona   \n",
            "24       2606           Sasabe, Arizona   \n",
            "\n",
            "                                       Mexico City    Mexican State  \n",
            "0                         Ciudad Juarez, Chihuahua        Chihuahua  \n",
            "1                                              NaN              NaN  \n",
            "2                    Caseta (Tornillo?), Chihuahua        Chihuahua  \n",
            "3                               Ojinaga, Chihuahua        Chihuahua  \n",
            "4                         Ciudad Juarez, Chihuahua        Chihuahua  \n",
            "5                                              NaN              NaN  \n",
            "6                         Piedras Negras, Coahuila         Coahuila  \n",
            "7   Nuevo Laredo, Tamaulipas/ Colombia, Nuevo León       Tamaulipas  \n",
            "8                            Matamoros, Tamaulipas       Tamaulipas  \n",
            "9                           Ciudad Acuña, Coahuila         Coahuila  \n",
            "10                     Nuevo Progresso, Tamaulipas       Tamaulipas  \n",
            "11                             Camargo, Tamaulipas       Tamaulipas  \n",
            "12                Ciudad Miguel Alemán, Tamaulipas       Tamaulipas  \n",
            "13                       Mexicali, Baja California  Baja California  \n",
            "14                        Tijuana, Baja California  Baja California  \n",
            "15                        Tijuana, Baja California  Baja California  \n",
            "16                                             NaN              NaN  \n",
            "17                         Tecate, Baja California  Baja California  \n",
            "18                  Los Algodones, Baja California  Baja California  \n",
            "19                                 Nogales, Sonora           Sonora  \n",
            "20                             Agua Prieta, Sonora           Sonora  \n",
            "21                                 Sonoyta, Sonora           Sonora  \n",
            "22                                    Naco, Sonora           Sonora  \n",
            "23                   San Luis Rio Colorado, Sonora           Sonora  \n",
            "24                                  Sásabe, Sonora           Sonora  \n"
          ],
          "name": "stdout"
        }
      ]
    },
    {
      "metadata": {
        "id": "-Y9W0poXX4SV",
        "colab_type": "text"
      },
      "cell_type": "markdown",
      "source": [
        "Finally, I downloaded the merged dataset to excel. "
      ]
    },
    {
      "metadata": {
        "id": "j04PydPQXhTP",
        "colab_type": "code",
        "colab": {}
      },
      "cell_type": "code",
      "source": [
        "asylum2017.to_excel(\"asylum2017.xlsx\")"
      ],
      "execution_count": 0,
      "outputs": []
    }
  ]
}